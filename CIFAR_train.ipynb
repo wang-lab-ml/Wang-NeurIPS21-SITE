{
 "cells": [
  {
   "cell_type": "code",
   "execution_count": 1,
   "id": "f93a07e0",
   "metadata": {},
   "outputs": [],
   "source": [
    "# prerequisites\n",
    "import os\n",
    "import torch\n",
    "import time\n",
    "import random\n",
    "import torch.nn as nn\n",
    "import torch.nn.functional as F\n",
    "import torch.optim as optim\n",
    "import torchvision\n",
    "import numpy as np\n",
    "import matplotlib.pyplot as plt\n",
    "from torchvision import datasets, transforms\n",
    "from torch.autograd import Variable\n",
    "from torchvision.utils import save_image\n",
    "from torch.utils.data import DataLoader\n",
    "from tqdm import tqdm\n",
    "\n",
    "from utils import *\n",
    "from models import SITE\n",
    "\n",
    "# Device configuration\n",
    "torch.manual_seed(0)\n",
    "device = torch.device('cuda:1' if torch.cuda.is_available() else 'cpu')"
   ]
  },
  {
   "cell_type": "code",
   "execution_count": 2,
   "id": "7f2d427b",
   "metadata": {},
   "outputs": [
    {
     "name": "stdout",
     "output_type": "stream",
     "text": [
      "Files already downloaded and verified\n",
      "Files already downloaded and verified\n"
     ]
    }
   ],
   "source": [
    "batch_size = 64\n",
    "model_path = './models/CIFAR'\n",
    "dataset_path = '../data'\n",
    "\n",
    "image_size = 128\n",
    "n_epoch = 100\n",
    "\n",
    "Transform = transforms.Compose(\n",
    "    [transforms.RandomHorizontalFlip(),\n",
    "     transforms.Resize((image_size,image_size)),\n",
    "     transforms.ToTensor(),\n",
    "     transforms.Normalize(mean = [0.485, 0.456, 0.406], \n",
    "                          std = [0.229, 0.224, 0.225])])\n",
    "\n",
    "trainset = torchvision.datasets.CIFAR10(root=dataset_path, train=True,\n",
    "                                        download=True, transform=Transform)\n",
    "train_loader = torch.utils.data.DataLoader(trainset, batch_size=batch_size,\n",
    "                                          shuffle=True, num_workers=8)\n",
    "\n",
    "valset = torchvision.datasets.CIFAR10(root=dataset_path, train=False,\n",
    "                                       download=True, transform=Transform)\n",
    "val_loader = torch.utils.data.DataLoader(valset, batch_size=batch_size,\n",
    "                                         shuffle=False, num_workers=8)\n",
    "\n",
    "classes = ('plane', 'car', 'bird', 'cat',\n",
    "           'deer', 'dog', 'frog', 'horse', 'ship', 'truck')\n"
   ]
  },
  {
   "cell_type": "code",
   "execution_count": 3,
   "id": "a3b8db48",
   "metadata": {},
   "outputs": [
    {
     "name": "stdout",
     "output_type": "stream",
     "text": [
      "Models are properly built! There are totally 7819592 parameters.\n"
     ]
    }
   ],
   "source": [
    "site = SITE().to(device)\n",
    "print(f'Models are properly built! There are totally {get_n_params(site)} parameters.')\n",
    "\n",
    "optimizer = optim.Adam(site.parameters(), lr = 1e-2)\n",
    "scheduler = optim.lr_scheduler.MultiStepLR(optimizer, milestones = [50, 80], gamma = 0.5)\n",
    "\n",
    "celoss = nn.CrossEntropyLoss()\n",
    "bceloss = nn.BCELoss()"
   ]
  },
  {
   "cell_type": "code",
   "execution_count": null,
   "id": "b1b6feb7",
   "metadata": {},
   "outputs": [
    {
     "name": "stderr",
     "output_type": "stream",
     "text": [
      "782it [14:02,  1.08s/it]\n"
     ]
    },
    {
     "name": "stdout",
     "output_type": "stream",
     "text": [
      "epoch: 1, loss: 2.489/4.090, train_acc: 0.2342, val_acc: 0.3097, time: 858.78\n"
     ]
    },
    {
     "name": "stderr",
     "output_type": "stream",
     "text": [
      "782it [14:04,  1.08s/it]\n"
     ]
    },
    {
     "name": "stdout",
     "output_type": "stream",
     "text": [
      "epoch: 2, loss: 1.938/3.502, train_acc: 0.2906, val_acc: 0.3755, time: 860.46\n"
     ]
    },
    {
     "name": "stderr",
     "output_type": "stream",
     "text": [
      "782it [14:04,  1.08s/it]\n"
     ]
    },
    {
     "name": "stdout",
     "output_type": "stream",
     "text": [
      "epoch: 3, loss: 1.847/3.476, train_acc: 0.3191, val_acc: 0.3827, time: 860.74\n"
     ]
    },
    {
     "name": "stderr",
     "output_type": "stream",
     "text": [
      "782it [14:05,  1.08s/it]\n"
     ]
    },
    {
     "name": "stdout",
     "output_type": "stream",
     "text": [
      "epoch: 4, loss: 1.785/3.476, train_acc: 0.3459, val_acc: 0.4057, time: 862.17\n"
     ]
    },
    {
     "name": "stderr",
     "output_type": "stream",
     "text": [
      "782it [14:06,  1.08s/it]\n"
     ]
    },
    {
     "name": "stdout",
     "output_type": "stream",
     "text": [
      "epoch: 5, loss: 1.731/3.477, train_acc: 0.3693, val_acc: 0.4036, time: 862.91\n"
     ]
    },
    {
     "name": "stderr",
     "output_type": "stream",
     "text": [
      "782it [14:05,  1.08s/it]\n"
     ]
    },
    {
     "name": "stdout",
     "output_type": "stream",
     "text": [
      "epoch: 6, loss: 1.655/3.478, train_acc: 0.3978, val_acc: 0.3993, time: 861.91\n"
     ]
    },
    {
     "name": "stderr",
     "output_type": "stream",
     "text": [
      "782it [14:07,  1.08s/it]\n"
     ]
    },
    {
     "name": "stdout",
     "output_type": "stream",
     "text": [
      "epoch: 7, loss: 1.535/3.478, train_acc: 0.4447, val_acc: 0.4283, time: 863.45\n"
     ]
    },
    {
     "name": "stderr",
     "output_type": "stream",
     "text": [
      "782it [14:05,  1.08s/it]\n"
     ]
    },
    {
     "name": "stdout",
     "output_type": "stream",
     "text": [
      "epoch: 8, loss: 1.432/3.478, train_acc: 0.4854, val_acc: 0.5461, time: 862.04\n"
     ]
    },
    {
     "name": "stderr",
     "output_type": "stream",
     "text": [
      "782it [14:05,  1.08s/it]\n"
     ]
    },
    {
     "name": "stdout",
     "output_type": "stream",
     "text": [
      "epoch: 9, loss: 1.302/3.479, train_acc: 0.5332, val_acc: 0.5408, time: 861.85\n"
     ]
    },
    {
     "name": "stderr",
     "output_type": "stream",
     "text": [
      "782it [14:07,  1.08s/it]\n"
     ]
    },
    {
     "name": "stdout",
     "output_type": "stream",
     "text": [
      "epoch: 10, loss: 1.203/3.479, train_acc: 0.5716, val_acc: 0.5810, time: 863.67\n"
     ]
    },
    {
     "name": "stderr",
     "output_type": "stream",
     "text": [
      "782it [14:21,  1.10s/it]\n"
     ]
    },
    {
     "name": "stdout",
     "output_type": "stream",
     "text": [
      "epoch: 11, loss: 1.130/3.479, train_acc: 0.6036, val_acc: 0.6198, time: 878.06\n"
     ]
    },
    {
     "name": "stderr",
     "output_type": "stream",
     "text": [
      "782it [14:09,  1.09s/it]\n"
     ]
    },
    {
     "name": "stdout",
     "output_type": "stream",
     "text": [
      "epoch: 12, loss: 1.046/3.478, train_acc: 0.6336, val_acc: 0.6215, time: 866.50\n"
     ]
    },
    {
     "name": "stderr",
     "output_type": "stream",
     "text": [
      "782it [14:07,  1.08s/it]\n"
     ]
    },
    {
     "name": "stdout",
     "output_type": "stream",
     "text": [
      "epoch: 13, loss: 0.992/3.478, train_acc: 0.6552, val_acc: 0.6466, time: 864.14\n"
     ]
    },
    {
     "name": "stderr",
     "output_type": "stream",
     "text": [
      "782it [14:08,  1.08s/it]\n"
     ]
    },
    {
     "name": "stdout",
     "output_type": "stream",
     "text": [
      "epoch: 14, loss: 0.928/3.478, train_acc: 0.6773, val_acc: 0.6737, time: 864.98\n"
     ]
    },
    {
     "name": "stderr",
     "output_type": "stream",
     "text": [
      "782it [14:07,  1.08s/it]\n"
     ]
    },
    {
     "name": "stdout",
     "output_type": "stream",
     "text": [
      "epoch: 15, loss: 0.878/3.478, train_acc: 0.6953, val_acc: 0.7051, time: 863.62\n"
     ]
    },
    {
     "name": "stderr",
     "output_type": "stream",
     "text": [
      "782it [14:06,  1.08s/it]\n"
     ]
    },
    {
     "name": "stdout",
     "output_type": "stream",
     "text": [
      "epoch: 16, loss: 0.835/3.477, train_acc: 0.7103, val_acc: 0.7036, time: 863.07\n"
     ]
    },
    {
     "name": "stderr",
     "output_type": "stream",
     "text": [
      "782it [14:07,  1.08s/it]\n"
     ]
    },
    {
     "name": "stdout",
     "output_type": "stream",
     "text": [
      "epoch: 17, loss: 0.790/3.478, train_acc: 0.7273, val_acc: 0.7255, time: 864.31\n"
     ]
    },
    {
     "name": "stderr",
     "output_type": "stream",
     "text": [
      "782it [14:07,  1.08s/it]\n"
     ]
    },
    {
     "name": "stdout",
     "output_type": "stream",
     "text": [
      "epoch: 18, loss: 0.758/3.477, train_acc: 0.7399, val_acc: 0.7320, time: 864.08\n"
     ]
    },
    {
     "name": "stderr",
     "output_type": "stream",
     "text": [
      "782it [14:06,  1.08s/it]\n"
     ]
    },
    {
     "name": "stdout",
     "output_type": "stream",
     "text": [
      "epoch: 19, loss: 0.727/3.477, train_acc: 0.7497, val_acc: 0.7280, time: 862.66\n"
     ]
    },
    {
     "name": "stderr",
     "output_type": "stream",
     "text": [
      "782it [14:07,  1.08s/it]\n"
     ]
    },
    {
     "name": "stdout",
     "output_type": "stream",
     "text": [
      "epoch: 20, loss: 0.699/3.477, train_acc: 0.7596, val_acc: 0.7454, time: 863.87\n"
     ]
    },
    {
     "name": "stderr",
     "output_type": "stream",
     "text": [
      "782it [14:05,  1.08s/it]\n"
     ]
    },
    {
     "name": "stdout",
     "output_type": "stream",
     "text": [
      "epoch: 21, loss: 0.670/3.476, train_acc: 0.7710, val_acc: 0.7445, time: 862.14\n"
     ]
    },
    {
     "name": "stderr",
     "output_type": "stream",
     "text": [
      "782it [14:07,  1.08s/it]\n"
     ]
    },
    {
     "name": "stdout",
     "output_type": "stream",
     "text": [
      "epoch: 22, loss: 0.654/3.477, train_acc: 0.7753, val_acc: 0.7750, time: 863.88\n"
     ]
    },
    {
     "name": "stderr",
     "output_type": "stream",
     "text": [
      "782it [14:05,  1.08s/it]\n"
     ]
    },
    {
     "name": "stdout",
     "output_type": "stream",
     "text": [
      "epoch: 23, loss: 0.625/3.476, train_acc: 0.7866, val_acc: 0.7665, time: 862.14\n"
     ]
    },
    {
     "name": "stderr",
     "output_type": "stream",
     "text": [
      "782it [13:56,  1.07s/it]\n"
     ]
    },
    {
     "name": "stdout",
     "output_type": "stream",
     "text": [
      "epoch: 24, loss: 0.610/3.476, train_acc: 0.7912, val_acc: 0.7497, time: 853.07\n"
     ]
    },
    {
     "name": "stderr",
     "output_type": "stream",
     "text": [
      "782it [14:03,  1.08s/it]\n"
     ]
    },
    {
     "name": "stdout",
     "output_type": "stream",
     "text": [
      "epoch: 25, loss: 0.593/3.476, train_acc: 0.7949, val_acc: 0.7818, time: 859.82\n"
     ]
    },
    {
     "name": "stderr",
     "output_type": "stream",
     "text": [
      "782it [14:06,  1.08s/it]\n"
     ]
    },
    {
     "name": "stdout",
     "output_type": "stream",
     "text": [
      "epoch: 26, loss: 0.572/3.476, train_acc: 0.8053, val_acc: 0.7831, time: 863.02\n"
     ]
    },
    {
     "name": "stderr",
     "output_type": "stream",
     "text": [
      "782it [14:05,  1.08s/it]\n"
     ]
    },
    {
     "name": "stdout",
     "output_type": "stream",
     "text": [
      "epoch: 27, loss: 0.561/3.476, train_acc: 0.8078, val_acc: 0.8143, time: 862.06\n"
     ]
    },
    {
     "name": "stderr",
     "output_type": "stream",
     "text": [
      "782it [14:05,  1.08s/it]\n"
     ]
    },
    {
     "name": "stdout",
     "output_type": "stream",
     "text": [
      "epoch: 28, loss: 0.537/3.475, train_acc: 0.8148, val_acc: 0.7850, time: 862.04\n"
     ]
    },
    {
     "name": "stderr",
     "output_type": "stream",
     "text": [
      "782it [14:06,  1.08s/it]\n"
     ]
    },
    {
     "name": "stdout",
     "output_type": "stream",
     "text": [
      "epoch: 29, loss: 0.528/3.475, train_acc: 0.8197, val_acc: 0.7895, time: 862.59\n"
     ]
    },
    {
     "name": "stderr",
     "output_type": "stream",
     "text": [
      "782it [14:05,  1.08s/it]\n"
     ]
    },
    {
     "name": "stdout",
     "output_type": "stream",
     "text": [
      "epoch: 30, loss: 0.524/3.476, train_acc: 0.8215, val_acc: 0.7991, time: 862.24\n"
     ]
    },
    {
     "name": "stderr",
     "output_type": "stream",
     "text": [
      "782it [14:05,  1.08s/it]\n"
     ]
    },
    {
     "name": "stdout",
     "output_type": "stream",
     "text": [
      "epoch: 31, loss: 0.501/3.475, train_acc: 0.8277, val_acc: 0.8220, time: 861.65\n"
     ]
    },
    {
     "name": "stderr",
     "output_type": "stream",
     "text": [
      "782it [14:06,  1.08s/it]\n"
     ]
    },
    {
     "name": "stdout",
     "output_type": "stream",
     "text": [
      "epoch: 32, loss: 0.497/3.476, train_acc: 0.8314, val_acc: 0.8101, time: 862.63\n"
     ]
    },
    {
     "name": "stderr",
     "output_type": "stream",
     "text": [
      "782it [14:06,  1.08s/it]\n"
     ]
    },
    {
     "name": "stdout",
     "output_type": "stream",
     "text": [
      "epoch: 33, loss: 0.491/3.476, train_acc: 0.8309, val_acc: 0.8106, time: 862.55\n"
     ]
    },
    {
     "name": "stderr",
     "output_type": "stream",
     "text": [
      "782it [14:06,  1.08s/it]\n"
     ]
    },
    {
     "name": "stdout",
     "output_type": "stream",
     "text": [
      "epoch: 34, loss: 0.472/3.475, train_acc: 0.8386, val_acc: 0.8081, time: 862.47\n"
     ]
    },
    {
     "name": "stderr",
     "output_type": "stream",
     "text": [
      "782it [14:05,  1.08s/it]\n"
     ]
    },
    {
     "name": "stdout",
     "output_type": "stream",
     "text": [
      "epoch: 35, loss: 0.465/3.475, train_acc: 0.8432, val_acc: 0.8227, time: 862.21\n"
     ]
    },
    {
     "name": "stderr",
     "output_type": "stream",
     "text": [
      "782it [14:05,  1.08s/it]\n"
     ]
    },
    {
     "name": "stdout",
     "output_type": "stream",
     "text": [
      "epoch: 36, loss: 0.457/3.475, train_acc: 0.8441, val_acc: 0.8267, time: 861.47\n"
     ]
    },
    {
     "name": "stderr",
     "output_type": "stream",
     "text": [
      "782it [14:04,  1.08s/it]\n"
     ]
    },
    {
     "name": "stdout",
     "output_type": "stream",
     "text": [
      "epoch: 37, loss: 0.451/3.475, train_acc: 0.8476, val_acc: 0.8150, time: 861.22\n"
     ]
    },
    {
     "name": "stderr",
     "output_type": "stream",
     "text": [
      "782it [14:05,  1.08s/it]\n"
     ]
    },
    {
     "name": "stdout",
     "output_type": "stream",
     "text": [
      "epoch: 38, loss: 0.434/3.475, train_acc: 0.8498, val_acc: 0.8346, time: 862.03\n"
     ]
    },
    {
     "name": "stderr",
     "output_type": "stream",
     "text": [
      "782it [14:04,  1.08s/it]\n"
     ]
    },
    {
     "name": "stdout",
     "output_type": "stream",
     "text": [
      "epoch: 39, loss: 0.430/3.475, train_acc: 0.8542, val_acc: 0.8225, time: 861.22\n"
     ]
    },
    {
     "name": "stderr",
     "output_type": "stream",
     "text": [
      "782it [14:05,  1.08s/it]\n"
     ]
    },
    {
     "name": "stdout",
     "output_type": "stream",
     "text": [
      "epoch: 40, loss: 0.424/3.475, train_acc: 0.8544, val_acc: 0.8305, time: 862.26\n"
     ]
    },
    {
     "name": "stderr",
     "output_type": "stream",
     "text": [
      "782it [14:04,  1.08s/it]\n"
     ]
    },
    {
     "name": "stdout",
     "output_type": "stream",
     "text": [
      "epoch: 41, loss: 0.415/3.475, train_acc: 0.8590, val_acc: 0.8258, time: 860.86\n"
     ]
    },
    {
     "name": "stderr",
     "output_type": "stream",
     "text": [
      "782it [14:05,  1.08s/it]\n"
     ]
    },
    {
     "name": "stdout",
     "output_type": "stream",
     "text": [
      "epoch: 42, loss: 0.409/3.475, train_acc: 0.8599, val_acc: 0.8252, time: 861.86\n"
     ]
    },
    {
     "name": "stderr",
     "output_type": "stream",
     "text": [
      "782it [14:03,  1.08s/it]\n"
     ]
    },
    {
     "name": "stdout",
     "output_type": "stream",
     "text": [
      "epoch: 43, loss: 0.398/3.475, train_acc: 0.8640, val_acc: 0.8196, time: 860.08\n"
     ]
    },
    {
     "name": "stderr",
     "output_type": "stream",
     "text": [
      "782it [14:04,  1.08s/it]\n"
     ]
    },
    {
     "name": "stdout",
     "output_type": "stream",
     "text": [
      "epoch: 44, loss: 0.397/3.475, train_acc: 0.8632, val_acc: 0.8552, time: 860.52\n"
     ]
    },
    {
     "name": "stderr",
     "output_type": "stream",
     "text": [
      "782it [14:04,  1.08s/it]\n"
     ]
    },
    {
     "name": "stdout",
     "output_type": "stream",
     "text": [
      "epoch: 45, loss: 0.383/3.475, train_acc: 0.8689, val_acc: 0.8267, time: 861.01\n"
     ]
    },
    {
     "name": "stderr",
     "output_type": "stream",
     "text": [
      "782it [14:05,  1.08s/it]\n"
     ]
    },
    {
     "name": "stdout",
     "output_type": "stream",
     "text": [
      "epoch: 46, loss: 0.387/3.475, train_acc: 0.8676, val_acc: 0.8531, time: 861.64\n"
     ]
    },
    {
     "name": "stderr",
     "output_type": "stream",
     "text": [
      "782it [14:04,  1.08s/it]\n"
     ]
    },
    {
     "name": "stdout",
     "output_type": "stream",
     "text": [
      "epoch: 47, loss: 0.379/3.475, train_acc: 0.8715, val_acc: 0.8489, time: 861.23\n"
     ]
    },
    {
     "name": "stderr",
     "output_type": "stream",
     "text": [
      "782it [14:04,  1.08s/it]\n"
     ]
    },
    {
     "name": "stdout",
     "output_type": "stream",
     "text": [
      "epoch: 48, loss: 0.372/3.475, train_acc: 0.8739, val_acc: 0.8314, time: 861.08\n"
     ]
    },
    {
     "name": "stderr",
     "output_type": "stream",
     "text": [
      "782it [14:04,  1.08s/it]\n"
     ]
    },
    {
     "name": "stdout",
     "output_type": "stream",
     "text": [
      "epoch: 49, loss: 0.360/3.475, train_acc: 0.8775, val_acc: 0.8378, time: 860.72\n"
     ]
    },
    {
     "name": "stderr",
     "output_type": "stream",
     "text": [
      "782it [14:04,  1.08s/it]\n"
     ]
    },
    {
     "name": "stdout",
     "output_type": "stream",
     "text": [
      "epoch: 50, loss: 0.369/3.475, train_acc: 0.8739, val_acc: 0.8593, time: 860.88\n"
     ]
    },
    {
     "name": "stderr",
     "output_type": "stream",
     "text": [
      "782it [14:03,  1.08s/it]\n"
     ]
    },
    {
     "name": "stdout",
     "output_type": "stream",
     "text": [
      "epoch: 51, loss: 0.278/3.469, train_acc: 0.9033, val_acc: 0.8762, time: 860.16\n"
     ]
    },
    {
     "name": "stderr",
     "output_type": "stream",
     "text": [
      "782it [14:03,  1.08s/it]\n"
     ]
    },
    {
     "name": "stdout",
     "output_type": "stream",
     "text": [
      "epoch: 52, loss: 0.261/3.468, train_acc: 0.9100, val_acc: 0.8676, time: 859.68\n"
     ]
    },
    {
     "name": "stderr",
     "output_type": "stream",
     "text": [
      "782it [14:04,  1.08s/it]\n"
     ]
    },
    {
     "name": "stdout",
     "output_type": "stream",
     "text": [
      "epoch: 53, loss: 0.256/3.468, train_acc: 0.9115, val_acc: 0.8810, time: 861.60\n"
     ]
    },
    {
     "name": "stderr",
     "output_type": "stream",
     "text": [
      "782it [14:04,  1.08s/it]\n"
     ]
    },
    {
     "name": "stdout",
     "output_type": "stream",
     "text": [
      "epoch: 54, loss: 0.252/3.468, train_acc: 0.9135, val_acc: 0.8772, time: 860.93\n"
     ]
    },
    {
     "name": "stderr",
     "output_type": "stream",
     "text": [
      "782it [14:05,  1.08s/it]\n"
     ]
    },
    {
     "name": "stdout",
     "output_type": "stream",
     "text": [
      "epoch: 55, loss: 0.248/3.467, train_acc: 0.9130, val_acc: 0.8749, time: 862.00\n"
     ]
    },
    {
     "name": "stderr",
     "output_type": "stream",
     "text": [
      "782it [14:03,  1.08s/it]\n"
     ]
    },
    {
     "name": "stdout",
     "output_type": "stream",
     "text": [
      "epoch: 56, loss: 0.244/3.467, train_acc: 0.9161, val_acc: 0.8714, time: 859.48\n"
     ]
    },
    {
     "name": "stderr",
     "output_type": "stream",
     "text": [
      "782it [14:04,  1.08s/it]\n"
     ]
    },
    {
     "name": "stdout",
     "output_type": "stream",
     "text": [
      "epoch: 57, loss: 0.242/3.467, train_acc: 0.9164, val_acc: 0.8701, time: 860.71\n"
     ]
    },
    {
     "name": "stderr",
     "output_type": "stream",
     "text": [
      "782it [14:02,  1.08s/it]\n"
     ]
    },
    {
     "name": "stdout",
     "output_type": "stream",
     "text": [
      "epoch: 58, loss: 0.233/3.467, train_acc: 0.9193, val_acc: 0.8761, time: 858.92\n"
     ]
    },
    {
     "name": "stderr",
     "output_type": "stream",
     "text": [
      "782it [14:04,  1.08s/it]\n"
     ]
    },
    {
     "name": "stdout",
     "output_type": "stream",
     "text": [
      "epoch: 59, loss: 0.236/3.467, train_acc: 0.9172, val_acc: 0.8795, time: 860.72\n"
     ]
    },
    {
     "name": "stderr",
     "output_type": "stream",
     "text": [
      "782it [14:04,  1.08s/it]\n"
     ]
    },
    {
     "name": "stdout",
     "output_type": "stream",
     "text": [
      "epoch: 60, loss: 0.228/3.467, train_acc: 0.9210, val_acc: 0.8795, time: 860.73\n"
     ]
    },
    {
     "name": "stderr",
     "output_type": "stream",
     "text": [
      "782it [14:04,  1.08s/it]\n"
     ]
    },
    {
     "name": "stdout",
     "output_type": "stream",
     "text": [
      "epoch: 61, loss: 0.227/3.467, train_acc: 0.9213, val_acc: 0.8781, time: 860.87\n"
     ]
    },
    {
     "name": "stderr",
     "output_type": "stream",
     "text": [
      "782it [14:03,  1.08s/it]\n"
     ]
    },
    {
     "name": "stdout",
     "output_type": "stream",
     "text": [
      "epoch: 62, loss: 0.219/3.466, train_acc: 0.9238, val_acc: 0.8864, time: 860.21\n"
     ]
    },
    {
     "name": "stderr",
     "output_type": "stream",
     "text": [
      "782it [14:03,  1.08s/it]\n"
     ]
    },
    {
     "name": "stdout",
     "output_type": "stream",
     "text": [
      "epoch: 63, loss: 0.227/3.467, train_acc: 0.9211, val_acc: 0.8788, time: 860.27\n"
     ]
    },
    {
     "name": "stderr",
     "output_type": "stream",
     "text": [
      "782it [14:03,  1.08s/it]\n"
     ]
    },
    {
     "name": "stdout",
     "output_type": "stream",
     "text": [
      "epoch: 64, loss: 0.216/3.467, train_acc: 0.9252, val_acc: 0.8734, time: 859.57\n"
     ]
    },
    {
     "name": "stderr",
     "output_type": "stream",
     "text": [
      "782it [14:05,  1.08s/it]\n"
     ]
    },
    {
     "name": "stdout",
     "output_type": "stream",
     "text": [
      "epoch: 65, loss: 0.214/3.467, train_acc: 0.9255, val_acc: 0.8765, time: 861.89\n"
     ]
    },
    {
     "name": "stderr",
     "output_type": "stream",
     "text": [
      "782it [14:03,  1.08s/it]\n"
     ]
    },
    {
     "name": "stdout",
     "output_type": "stream",
     "text": [
      "epoch: 66, loss: 0.216/3.467, train_acc: 0.9246, val_acc: 0.8868, time: 860.31\n"
     ]
    },
    {
     "name": "stderr",
     "output_type": "stream",
     "text": [
      "782it [14:05,  1.08s/it]\n"
     ]
    },
    {
     "name": "stdout",
     "output_type": "stream",
     "text": [
      "epoch: 67, loss: 0.206/3.466, train_acc: 0.9284, val_acc: 0.8760, time: 861.25\n"
     ]
    },
    {
     "name": "stderr",
     "output_type": "stream",
     "text": [
      "782it [14:04,  1.08s/it]\n"
     ]
    },
    {
     "name": "stdout",
     "output_type": "stream",
     "text": [
      "epoch: 68, loss: 0.208/3.466, train_acc: 0.9275, val_acc: 0.8582, time: 861.16\n"
     ]
    },
    {
     "name": "stderr",
     "output_type": "stream",
     "text": [
      "782it [14:04,  1.08s/it]\n"
     ]
    },
    {
     "name": "stdout",
     "output_type": "stream",
     "text": [
      "epoch: 69, loss: 0.204/3.466, train_acc: 0.9284, val_acc: 0.8794, time: 861.42\n"
     ]
    },
    {
     "name": "stderr",
     "output_type": "stream",
     "text": [
      "782it [14:02,  1.08s/it]\n"
     ]
    },
    {
     "name": "stdout",
     "output_type": "stream",
     "text": [
      "epoch: 70, loss: 0.203/3.466, train_acc: 0.9286, val_acc: 0.8662, time: 859.16\n"
     ]
    },
    {
     "name": "stderr",
     "output_type": "stream",
     "text": [
      "782it [14:04,  1.08s/it]\n"
     ]
    },
    {
     "name": "stdout",
     "output_type": "stream",
     "text": [
      "epoch: 71, loss: 0.206/3.467, train_acc: 0.9286, val_acc: 0.8839, time: 861.30\n"
     ]
    },
    {
     "name": "stderr",
     "output_type": "stream",
     "text": [
      "782it [14:03,  1.08s/it]\n"
     ]
    },
    {
     "name": "stdout",
     "output_type": "stream",
     "text": [
      "epoch: 72, loss: 0.196/3.466, train_acc: 0.9319, val_acc: 0.8804, time: 860.21\n"
     ]
    },
    {
     "name": "stderr",
     "output_type": "stream",
     "text": [
      "782it [14:03,  1.08s/it]\n"
     ]
    },
    {
     "name": "stdout",
     "output_type": "stream",
     "text": [
      "epoch: 73, loss: 0.199/3.466, train_acc: 0.9311, val_acc: 0.8739, time: 860.27\n"
     ]
    },
    {
     "name": "stderr",
     "output_type": "stream",
     "text": [
      "782it [14:02,  1.08s/it]\n"
     ]
    },
    {
     "name": "stdout",
     "output_type": "stream",
     "text": [
      "epoch: 74, loss: 0.196/3.466, train_acc: 0.9318, val_acc: 0.8756, time: 859.16\n"
     ]
    },
    {
     "name": "stderr",
     "output_type": "stream",
     "text": [
      "782it [14:04,  1.08s/it]\n"
     ]
    },
    {
     "name": "stdout",
     "output_type": "stream",
     "text": [
      "epoch: 75, loss: 0.194/3.466, train_acc: 0.9319, val_acc: 0.8807, time: 861.16\n"
     ]
    },
    {
     "name": "stderr",
     "output_type": "stream",
     "text": [
      "782it [14:05,  1.08s/it]\n"
     ]
    },
    {
     "name": "stdout",
     "output_type": "stream",
     "text": [
      "epoch: 76, loss: 0.188/3.466, train_acc: 0.9355, val_acc: 0.8808, time: 861.33\n"
     ]
    },
    {
     "name": "stderr",
     "output_type": "stream",
     "text": [
      "527it [09:30,  1.09s/it]"
     ]
    }
   ],
   "source": [
    "for epoch in range(n_epoch):\n",
    "    Loss_cls = []\n",
    "    Loss_rec = []\n",
    "    equality = 0\n",
    "    start = time.time()\n",
    "    \n",
    "    # generate new prototypes\n",
    "    prototype = get_prototype(train_loader)\n",
    "    site.train()\n",
    "    \n",
    "    for batch_idx, (image, label) in tqdm(enumerate(train_loader)):\n",
    "        \n",
    "        optimizer.zero_grad()\n",
    "        \n",
    "        image, label = image.to(device), label.to(device)\n",
    "        \n",
    "        theta, gamma = get_theta(image.shape[0], get_reverse = True)\n",
    "        t_image = transform(image, theta, dataset = 'CIFAR')\n",
    "        \n",
    "        t_feature, t_W, t_pred  = site.for_training(t_image)\n",
    "        \n",
    "        # Classification loss\n",
    "        loss_cls = celoss(t_pred, label)\n",
    "        Loss_cls.append(loss_cls.item())\n",
    "\n",
    "        target = sample_prototype(prototype, label, dataset = 'CIFAR')\n",
    "        expanded_theta = theta.view(image.shape[0],1,2,3).expand(image.shape[0],10,2,3).reshape(image.shape[0]*10,2,3)\n",
    "        t_target = transform(target.view(-1, 3, 128, 128), expanded_theta, dataset = 'CIFAR')\n",
    "        \n",
    "        with torch.no_grad():\n",
    "            t_target_feature, _ = site.backbone(t_target.view(-1, 3, 128, 128))\n",
    "            t_target_feature = t_target_feature.view(-1, 10, 10, 16, 16)\n",
    "        loss_rec = 5*bceloss((t_W + 1)/2, (t_target_feature + 1)/2)\n",
    "        Loss_rec.append(loss_rec.item())\n",
    "        \n",
    "        loss = loss_cls + loss_rec\n",
    "        loss.backward()\n",
    "        optimizer.step()\n",
    "        \n",
    "        equality += (t_pred.max(1)[1] == label).float().mean()\n",
    "    \n",
    "    train_accuracy = equality / (batch_idx + 1)\n",
    "    scheduler.step()\n",
    "    \n",
    "    equality = 0\n",
    "    site.eval()\n",
    "    for batch_idx, (image, label) in enumerate(val_loader):\n",
    "        \n",
    "        image, label= image.to(device), label.to(device)\n",
    "        \n",
    "        theta, gamma = get_theta(image.shape[0], get_reverse = True)\n",
    "        t_image = transform(image, theta, dataset = 'CIFAR')\n",
    "        \n",
    "        with torch.no_grad():\n",
    "            t_pred = site(image)\n",
    "            \n",
    "        equality += (t_pred.max(1)[1] == label).float().mean()\n",
    "        \n",
    "    val_accuracy = equality / (batch_idx + 1)\n",
    "    \n",
    "    print('epoch: {}, loss: {:.3f}/{:.3f}, train_acc: {:.4f}, val_acc: {:.4f}, time: {:.2f}'.format(\n",
    "        epoch + 1,\n",
    "        torch.FloatTensor(Loss_cls).mean(),\n",
    "        torch.FloatTensor(Loss_rec).mean(),\n",
    "        train_accuracy,\n",
    "        val_accuracy,\n",
    "        time.time() - start))"
   ]
  },
  {
   "cell_type": "code",
   "execution_count": null,
   "id": "383133ae",
   "metadata": {},
   "outputs": [],
   "source": []
  }
 ],
 "metadata": {
  "kernelspec": {
   "display_name": "Python 3 (ipykernel)",
   "language": "python",
   "name": "python3"
  },
  "language_info": {
   "codemirror_mode": {
    "name": "ipython",
    "version": 3
   },
   "file_extension": ".py",
   "mimetype": "text/x-python",
   "name": "python",
   "nbconvert_exporter": "python",
   "pygments_lexer": "ipython3",
   "version": "3.7.7"
  }
 },
 "nbformat": 4,
 "nbformat_minor": 5
}
